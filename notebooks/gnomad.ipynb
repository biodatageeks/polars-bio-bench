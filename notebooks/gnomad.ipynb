{
 "cells": [
  {
   "cell_type": "code",
   "execution_count": null,
   "id": "initial_id",
   "metadata": {
    "collapsed": true
   },
   "outputs": [],
   "source": [
    "import polars_bio as pb"
   ]
  },
  {
   "cell_type": "code",
   "execution_count": null,
   "id": "cb281c76406710dc",
   "metadata": {},
   "outputs": [],
   "source": [
    "sv = pb.read_vcf(\"/tmp/gnomad.v4.1.sv.sites.vcf\")"
   ]
  },
  {
   "cell_type": "code",
   "execution_count": null,
   "id": "e38189e17181e834",
   "metadata": {},
   "outputs": [],
   "source": [
    "sv.head().collect()"
   ]
  },
  {
   "cell_type": "code",
   "execution_count": null,
   "id": "4f5b8da5e79e259c",
   "metadata": {},
   "outputs": [],
   "source": [
    "sv.pb.overlap(sv)"
   ]
  },
  {
   "cell_type": "code",
   "execution_count": null,
   "id": "e75a479bc9bbfed",
   "metadata": {},
   "outputs": [],
   "source": [
    "pb.overlap(sv, sv)"
   ]
  }
 ],
 "metadata": {
  "kernelspec": {
   "display_name": "Python 3",
   "language": "python",
   "name": "python3"
  },
  "language_info": {
   "codemirror_mode": {
    "name": "ipython",
    "version": 2
   },
   "file_extension": ".py",
   "mimetype": "text/x-python",
   "name": "python",
   "nbconvert_exporter": "python",
   "pygments_lexer": "ipython2",
   "version": "2.7.6"
  }
 },
 "nbformat": 4,
 "nbformat_minor": 5
}
